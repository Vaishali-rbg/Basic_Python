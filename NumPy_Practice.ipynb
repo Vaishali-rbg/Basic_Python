{
 "cells": [
  {
   "cell_type": "code",
   "execution_count": 1,
   "id": "d7778fb7",
   "metadata": {},
   "outputs": [],
   "source": [
    "import numpy as np"
   ]
  },
  {
   "cell_type": "code",
   "execution_count": 2,
   "id": "f61ba41d",
   "metadata": {},
   "outputs": [
    {
     "name": "stdout",
     "output_type": "stream",
     "text": [
      "2\n",
      "4\n",
      "int32\n",
      "6\n",
      "(2, 3)\n"
     ]
    }
   ],
   "source": [
    "a= np.array([(1,2,3) , (3,4,5)])\n",
    "print(a.ndim)\n",
    "\n",
    "a= np.array([(1,2,3)])\n",
    "print(a.itemsize)\n",
    "\n",
    "a= np.array([(1,2,3) , (3,4,5)])\n",
    "print(a.dtype)\n",
    "\n",
    "a= np.array([(1,2,3), (3,4,5)])\n",
    "print(a.size)\n",
    "\n",
    "a= np.array([(1,2,3), (3,4,5)])\n",
    "print(a.shape)"
   ]
  },
  {
   "cell_type": "code",
   "execution_count": 3,
   "id": "ec8f8b91",
   "metadata": {},
   "outputs": [
    {
     "name": "stdout",
     "output_type": "stream",
     "text": [
      "[1.   1.25 1.5  1.75 2.  ]\n",
      "[[1 2]\n",
      " [3 3]\n",
      " [4 5]]\n",
      "3\n",
      "1\n",
      "6\n"
     ]
    }
   ],
   "source": [
    "a = np.linspace(1, 2, 5);\n",
    "print(a)\n",
    "\n",
    "a= np.array([(1,2,3), (3,4,5)])\n",
    "print(a.reshape(3,2))\n",
    "\n",
    "a= np.array([1,2,3])\n",
    "\n",
    "print(a.max())\n",
    "print(a.min())\n",
    "print(a.sum())"
   ]
  },
  {
   "cell_type": "code",
   "execution_count": 4,
   "id": "c5a3442f",
   "metadata": {},
   "outputs": [
    {
     "name": "stdout",
     "output_type": "stream",
     "text": [
      "[3 5]\n",
      "[4 6 8]\n",
      "[[1.         1.41421356 1.73205081]\n",
      " [1.73205081 2.         2.23606798]]\n",
      "1.2909944487358056\n"
     ]
    }
   ],
   "source": [
    "a= np.array([(1,2,3), (3,4,5)])\n",
    "print(a[0:, 2])\n",
    "print(a.sum(axis=0))\n",
    "print(np.sqrt(a))\n",
    "print(np.std(a))\n"
   ]
  },
  {
   "cell_type": "code",
   "execution_count": 5,
   "id": "46b6c61b",
   "metadata": {},
   "outputs": [
    {
     "name": "stdout",
     "output_type": "stream",
     "text": [
      "[[ 2  4  6]\n",
      " [ 6  8 10]]\n",
      "[[0 0 0]\n",
      " [0 0 0]]\n",
      "[[ 1  4  9]\n",
      " [ 9 16 25]]\n",
      "[[1. 1. 1.]\n",
      " [1. 1. 1.]]\n",
      "[[1 2 3]\n",
      " [3 4 5]\n",
      " [1 2 3]\n",
      " [3 4 5]]\n",
      "[[1 2 3 1 2 3]\n",
      " [3 4 5 3 4 5]]\n"
     ]
    }
   ],
   "source": [
    "a= np.array([(1,2,3), (3,4,5)])\n",
    "b= np.array([(1,2,3), (3,4,5)])\n",
    "print(a+b)\n",
    "print(a-b)\n",
    "print(a*b)\n",
    "print(a/b)\n",
    "print(np.vstack((a,b)))\n",
    "print(np.hstack((a,b)))"
   ]
  },
  {
   "cell_type": "code",
   "execution_count": null,
   "id": "26d804d8",
   "metadata": {},
   "outputs": [],
   "source": []
  }
 ],
 "metadata": {
  "kernelspec": {
   "display_name": "Python 3 (ipykernel)",
   "language": "python",
   "name": "python3"
  },
  "language_info": {
   "codemirror_mode": {
    "name": "ipython",
    "version": 3
   },
   "file_extension": ".py",
   "mimetype": "text/x-python",
   "name": "python",
   "nbconvert_exporter": "python",
   "pygments_lexer": "ipython3",
   "version": "3.11.1"
  }
 },
 "nbformat": 4,
 "nbformat_minor": 5
}
