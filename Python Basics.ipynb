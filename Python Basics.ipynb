{
 "cells": [
  {
   "cell_type": "markdown",
   "id": "5c51f5fc",
   "metadata": {},
   "source": [
    "Basic Python practice"
   ]
  },
  {
   "cell_type": "code",
   "execution_count": 1,
   "id": "7bd565be",
   "metadata": {},
   "outputs": [
    {
     "name": "stdout",
     "output_type": "stream",
     "text": [
      "1, 2, 3, 4, 5, 6, 7, 8, 9, 10 "
     ]
    }
   ],
   "source": [
    "def print_numbers_ascending(num):\n",
    "    for i in range(1, num + 1):\n",
    "        if i == num:\n",
    "            print(i, end=\" \")\n",
    "        else:\n",
    "            print(i, end=\", \"),\n",
    "\n",
    "print_numbers_ascending(10)\n",
    "\n"
   ]
  },
  {
   "cell_type": "code",
   "execution_count": 5,
   "id": "4607c5ce",
   "metadata": {},
   "outputs": [
    {
     "name": "stdout",
     "output_type": "stream",
     "text": [
      "\n",
      "\n",
      " To reverse a string\n",
      "ylgUehTdaBehTdooGehT\n",
      "\n",
      "To swap two variables\n",
      "a: 10  b: 20\n",
      "a: 20  b: 10\n"
     ]
    }
   ],
   "source": [
    "s1 = \"TheGoodTheBadTheUgly\"\n",
    "\n",
    "s1_list = list(s1)\n",
    "\n",
    "print(\"\\n\" + \"\\n \" + \"To reverse a string\")\n",
    "for i in range(len(s1_list) -1, -1, -1):\n",
    "    print(s1[i], end=\"\")\n",
    "\n",
    "print(\"\\n\")\n",
    "print(\"To swap two variables\")\n",
    "\n",
    "a = 10\n",
    "b = 20\n",
    "\n",
    "print(\"a: \" + str(a) + \"  b: \" + str(b))\n",
    "a, b = b, a\n",
    "\n",
    "print(\"a: \" + str(a) + \"  b: \" + str(b))\n"
   ]
  },
  {
   "cell_type": "code",
   "execution_count": 4,
   "id": "6ca1ecf2",
   "metadata": {},
   "outputs": [
    {
     "name": "stdout",
     "output_type": "stream",
     "text": [
      "Fibonacci numbers\n",
      "1, 2, 3, 5, 8, 13, 21, "
     ]
    }
   ],
   "source": [
    "#fibonacci numbers\n",
    "print(\"Fibonacci numbers\")\n",
    "\n",
    "def fibonacci_numbers (num):\n",
    "    start = 1\n",
    "    mid = 2\n",
    "    print (str(start) + \", \" + str(mid), end=\", \")\n",
    "\n",
    "    for i in range(num - 2):\n",
    "        end = start + mid\n",
    "        print(end, end=\", \")\n",
    "        start = mid\n",
    "        mid = end\n",
    "\n",
    "fibonacci_numbers(7)\n"
   ]
  },
  {
   "cell_type": "code",
   "execution_count": 6,
   "id": "5ec73b1f",
   "metadata": {},
   "outputs": [
    {
     "name": "stdout",
     "output_type": "stream",
     "text": [
      "factorial of number\n",
      "42  num: 7\n",
      "210  num: 6\n",
      "840  num: 5\n",
      "2520  num: 4\n",
      "5040  num: 3\n",
      "5040  num: 2\n"
     ]
    }
   ],
   "source": [
    "#factorial numbers\n",
    "print(\"factorial of number\")\n",
    "def factorial(num):\n",
    "    temp = num;\n",
    "    while num > 1:\n",
    "        temp = temp * (num - 1)\n",
    "        print(str(temp) + \"  num: \" + str(num))\n",
    "        num = num - 1\n",
    "\n",
    "factorial(7)"
   ]
  },
  {
   "cell_type": "code",
   "execution_count": 7,
   "id": "37e64675",
   "metadata": {},
   "outputs": [
    {
     "name": "stdout",
     "output_type": "stream",
     "text": [
      "*\n",
      "**\n",
      "***\n",
      "****\n"
     ]
    }
   ],
   "source": [
    "for i in range (1, 5):\n",
    "    for j in range (1, i + 1):\n",
    "        print(\"*\", end=\"\")\n",
    "    print(\"\\n\", end=\"\")"
   ]
  },
  {
   "cell_type": "code",
   "execution_count": 8,
   "id": "16f240cb",
   "metadata": {},
   "outputs": [
    {
     "name": "stdout",
     "output_type": "stream",
     "text": [
      "*****\n",
      "****\n",
      "***\n",
      "**\n",
      "*\n"
     ]
    }
   ],
   "source": [
    "for x in range (0, 5):\n",
    "    for y in range (0, 5-x):\n",
    "        print(\"*\", end=\"\")\n",
    "    print(\"\\n\", end=\"\")"
   ]
  },
  {
   "cell_type": "code",
   "execution_count": 9,
   "id": "78254a88",
   "metadata": {},
   "outputs": [
    {
     "name": "stdout",
     "output_type": "stream",
     "text": [
      "[1, 2, 3, 4]\n",
      "[4, 1, 2, 3]\n",
      "[3, 4, 1, 2]\n",
      "[2, 3, 4, 1]\n"
     ]
    }
   ],
   "source": [
    "list= [1,2,3,4]\n",
    "\n",
    "print(list)\n",
    "list1= list[3:] + list[:3]\n",
    "print(list1)\n",
    "list2= list[-2:] + list[:-2]\n",
    "print(list2)\n",
    "list3= list[-3:] + list[:-3]\n",
    "print(list3)"
   ]
  },
  {
   "cell_type": "code",
   "execution_count": 10,
   "id": "e6188735",
   "metadata": {},
   "outputs": [
    {
     "name": "stdout",
     "output_type": "stream",
     "text": [
      "1,3,5,7,9,11,13,15,17,19,"
     ]
    }
   ],
   "source": [
    "#print n odd number\n",
    "def print_odd_numbers(num):\n",
    "  for num in range(1, num+1):\n",
    "    if num%2 !=0:\n",
    "        print(num, end=\",\")\n",
    "print_odd_numbers(20)"
   ]
  },
  {
   "cell_type": "code",
   "execution_count": 13,
   "id": "84af0c1c",
   "metadata": {},
   "outputs": [
    {
     "name": "stdout",
     "output_type": "stream",
     "text": [
      "2,4,6,8,10,"
     ]
    }
   ],
   "source": [
    "#print n even number\n",
    "def print_even_numbers(num):\n",
    "    for num in range(2, num+2):\n",
    "        if num%2 == 0:\n",
    "            print(num, end=\",\")\n",
    "            \n",
    "print_even_numbers(10)"
   ]
  },
  {
   "cell_type": "code",
   "execution_count": 15,
   "id": "99171799",
   "metadata": {},
   "outputs": [
    {
     "name": "stdout",
     "output_type": "stream",
     "text": [
      "ylgUehTdaBehTdooGehT\n",
      "dlrowolleh\n"
     ]
    }
   ],
   "source": [
    "# reverse a string\n",
    "s1 = \"TheGoodTheBadTheUgly\"[ : : -1]\n",
    "print(s1)\n",
    "\n",
    "#second method\n",
    "def reverse_mystring(x):\n",
    "    return x[ : : -1]\n",
    "\n",
    "new_string= reverse_mystring(\"helloworld\")\n",
    "print(new_string)"
   ]
  },
  {
   "cell_type": "code",
   "execution_count": 16,
   "id": "cf4bb301",
   "metadata": {},
   "outputs": [
    {
     "name": "stdout",
     "output_type": "stream",
     "text": [
      "{'hi': '01', 'this': '02', 'is': '03', 'vaishali': '04'}\n",
      "{'01': 'hello', '02': 'world', '03': 'welcome'}\n"
     ]
    }
   ],
   "source": [
    "#Dictionary\n",
    "# first\n",
    "Dict= {}\n",
    "Dict.update({'hi': '01', 'this': '02', 'is': '03', 'vaishali': '04'})\n",
    "print(Dict)\n",
    "\n",
    "#second\n",
    "keys= [\"01\", \"02\", \"03\"]\n",
    "values= [\"hello\", \"world\", \"welcome\"]\n",
    "dict01= {}\n",
    "\n",
    "for i in range(len(keys)):\n",
    "    dict01[keys[i]]= values[i]\n",
    "print (dict01)"
   ]
  },
  {
   "cell_type": "code",
   "execution_count": 17,
   "id": "6d270b28",
   "metadata": {},
   "outputs": [
    {
     "name": "stdout",
     "output_type": "stream",
     "text": [
      "{'1': 'this', '2': 'is', '3': 'chelesea'}\n"
     ]
    }
   ],
   "source": [
    "#third\n",
    "keys= [\"1\", \"2\", \"3\"]\n",
    "values= ['this', 'is', 'chelesea']\n",
    "dictionary={}\n",
    "for key, value in zip(keys, values):\n",
    "    dictionary[key]= value\n",
    "\n",
    "print(dictionary)"
   ]
  }
 ],
 "metadata": {
  "kernelspec": {
   "display_name": "Python 3 (ipykernel)",
   "language": "python",
   "name": "python3"
  },
  "language_info": {
   "codemirror_mode": {
    "name": "ipython",
    "version": 3
   },
   "file_extension": ".py",
   "mimetype": "text/x-python",
   "name": "python",
   "nbconvert_exporter": "python",
   "pygments_lexer": "ipython3",
   "version": "3.11.1"
  }
 },
 "nbformat": 4,
 "nbformat_minor": 5
}
