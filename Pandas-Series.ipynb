{
 "cells": [
  {
   "cell_type": "code",
   "execution_count": 1,
   "id": "a4832be9",
   "metadata": {},
   "outputs": [
    {
     "name": "stdout",
     "output_type": "stream",
     "text": [
      "Collecting pandas\n",
      "  Using cached https://files.pythonhosted.org/packages/ca/4e/d18db7d5ff9d28264cd2a7e2499b8701108f0e6c698e382cfd5d20685c21/pandas-1.5.3-cp38-cp38-win_amd64.whl\n",
      "Collecting python-dateutil>=2.8.1 (from pandas)\n",
      "  Using cached https://files.pythonhosted.org/packages/36/7a/87837f39d0296e723bb9b62bbb257d0355c7f6128853c78955f57342a56d/python_dateutil-2.8.2-py2.py3-none-any.whl\n",
      "Collecting pytz>=2020.1 (from pandas)\n",
      "  Using cached https://files.pythonhosted.org/packages/2e/09/fbd3c46dce130958ee8e0090f910f1fe39e502cc5ba0aadca1e8a2b932e5/pytz-2022.7.1-py2.py3-none-any.whl\n",
      "Collecting numpy>=1.20.3; python_version < \"3.10\" (from pandas)\n",
      "  Using cached https://files.pythonhosted.org/packages/bf/8c/3d36cef521739bd481e9a5b30e5c0f9faf8b7fe7b904238368908a9d149d/numpy-1.24.2-cp38-cp38-win_amd64.whl\n",
      "Collecting six>=1.5 (from python-dateutil>=2.8.1->pandas)\n",
      "  Using cached https://files.pythonhosted.org/packages/d9/5a/e7c31adbe875f2abbb91bd84cf2dc52d792b5a01506781dbcf25c91daf11/six-1.16.0-py2.py3-none-any.whl\n",
      "Installing collected packages: six, python-dateutil, pytz, numpy, pandas\n"
     ]
    },
    {
     "name": "stderr",
     "output_type": "stream",
     "text": [
      "ERROR: Could not install packages due to an EnvironmentError: [Errno 13] Permission denied: 'c:\\\\program files\\\\python38\\\\Lib\\\\site-packages\\\\six.py'\n",
      "Consider using the `--user` option or check the permissions.\n",
      "\n",
      "WARNING: You are using pip version 19.2.3, however version 23.0.1 is available.\n",
      "You should consider upgrading via the 'python -m pip install --upgrade pip' command.\n"
     ]
    }
   ],
   "source": [
    "! pip install pandas"
   ]
  },
  {
   "cell_type": "code",
   "execution_count": 2,
   "id": "37f2effb",
   "metadata": {},
   "outputs": [
    {
     "name": "stdout",
     "output_type": "stream",
     "text": [
      "0    h\n",
      "1    j\n",
      "2    k\n",
      "3    l\n",
      "4    m\n",
      "dtype: object\n"
     ]
    }
   ],
   "source": [
    "import pandas as pd\n",
    "import numpy as np\n",
    "\n",
    "a= np.array(['h','j','k','l','m','n','o'])\n",
    "s= pd.Series(a[:5])\n",
    "print(s)\n"
   ]
  },
  {
   "cell_type": "code",
   "execution_count": 4,
   "id": "c0df067d",
   "metadata": {},
   "outputs": [
    {
     "name": "stdout",
     "output_type": "stream",
     "text": [
      "rio\n",
      "1    ria\n",
      "2    rio\n",
      "dtype: object\n"
     ]
    }
   ],
   "source": [
    "\n",
    "data = {'Name':['venna', 'ria', 'rio', 'priya'],\n",
    "        'Age':[20, 24, 30, 21],\n",
    "        'Address':['Tamilnadu', 'Mumbai', 'Goa', 'Kerala'],\n",
    "        'Qualification':['Msc', 'Phd', 'MBA', 'M.Tech']}\n",
    "\n",
    "\n",
    "ser= pd.Series(data['Name'])\n",
    "print(ser[2])\n",
    "\n",
    "print(ser.loc[1:2])"
   ]
  },
  {
   "cell_type": "code",
   "execution_count": 5,
   "id": "57c47e60",
   "metadata": {},
   "outputs": [
    {
     "name": "stdout",
     "output_type": "stream",
     "text": [
      "0    1\n",
      "1    2\n",
      "2    3\n",
      "3    4\n",
      "dtype: int64\n",
      "0    5\n",
      "1    6\n",
      "2    7\n",
      "3    8\n",
      "dtype: int64\n"
     ]
    }
   ],
   "source": [
    "\n",
    "data= [1, 2, 3, 4]\n",
    "ser1= pd.Series(data)\n",
    "print(ser1)\n",
    "\n",
    "data1= [ 5, 6, 7, 8]\n",
    "ser2= pd.Series(data1)\n",
    "print(ser2)"
   ]
  },
  {
   "cell_type": "code",
   "execution_count": 6,
   "id": "284cc2e9",
   "metadata": {},
   "outputs": [
    {
     "name": "stdout",
     "output_type": "stream",
     "text": [
      "0     6\n",
      "1     8\n",
      "2    10\n",
      "3    12\n",
      "dtype: int64\n",
      "0   -4\n",
      "1   -4\n",
      "2   -4\n",
      "3   -4\n",
      "dtype: int64\n"
     ]
    }
   ],
   "source": [
    "#Operations\n",
    "sum= ser1.add(ser2)\n",
    "print(sum)\n",
    "subtract= ser1.sub(ser2)\n",
    "print(subtract)"
   ]
  },
  {
   "cell_type": "code",
   "execution_count": 9,
   "id": "8220ea85",
   "metadata": {},
   "outputs": [
    {
     "name": "stdout",
     "output_type": "stream",
     "text": [
      "0    venna\n",
      "1      ria\n",
      "2      rio\n",
      "3    priya\n",
      "dtype: object\n",
      "['venna', 'ria', 'rio', 'priya']\n",
      "object\n"
     ]
    }
   ],
   "source": [
    "\n",
    "data = {'Name':['venna', 'ria', 'rio', 'priya'],\n",
    "        'Age':[20, 24, 30, 21],\n",
    "        'Address':['Tamilnadu', 'Mumbai', 'Goa', 'Kerala'],\n",
    "        'Qualification':['Msc', 'Phd', 'MBA', 'M.Tech']}\n",
    "\n",
    "ser = pd.Series(data['Name'])\n",
    "print(ser)\n",
    "Name_list = ser.tolist()\n",
    "print(Name_list)\n",
    "\n",
    "ser=pd.Series(data['Name'])\n",
    "print(ser.dtypes)\n",
    "\n"
   ]
  },
  {
   "cell_type": "code",
   "execution_count": null,
   "id": "82419c97",
   "metadata": {},
   "outputs": [],
   "source": []
  }
 ],
 "metadata": {
  "kernelspec": {
   "display_name": "Python 3 (ipykernel)",
   "language": "python",
   "name": "python3"
  },
  "language_info": {
   "codemirror_mode": {
    "name": "ipython",
    "version": 3
   },
   "file_extension": ".py",
   "mimetype": "text/x-python",
   "name": "python",
   "nbconvert_exporter": "python",
   "pygments_lexer": "ipython3",
   "version": "3.11.1"
  }
 },
 "nbformat": 4,
 "nbformat_minor": 5
}
