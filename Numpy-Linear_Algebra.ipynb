{
 "cells": [
  {
   "cell_type": "code",
   "execution_count": 2,
   "id": "c3d1e202",
   "metadata": {},
   "outputs": [
    {
     "name": "stdout",
     "output_type": "stream",
     "text": [
      "[[19 22]\n",
      " [43 50]]\n",
      "70\n"
     ]
    }
   ],
   "source": [
    "#dot function\n",
    "\n",
    "import numpy as np\n",
    "\n",
    "arr1 = np.array([[1,2],[3,4]])  \n",
    "arr2 = np.array([[5,6],[7,8]])  \n",
    "print(np.dot(arr1,arr2))\n",
    "print(np.vdot(arr1,arr2)) "
   ]
  },
  {
   "cell_type": "code",
   "execution_count": 4,
   "id": "4ed28340",
   "metadata": {},
   "outputs": [
    {
     "name": "stdout",
     "output_type": "stream",
     "text": [
      "[[ -783 -2869 -1584 ... -2303 -1872 -2553]\n",
      " [  477  1073  1252 ...   583  1740  1381]\n",
      " [-1170   112 -1883 ...   114 -4246 -2466]\n",
      " ...\n",
      " [ -705 -2088 -1065 ...   -75  -717 -1727]\n",
      " [  453  1655   -22 ...  -452 -1380   -67]\n",
      " [-2755 -3418 -3607 ... -1751 -5877 -4517]] \n",
      "\n"
     ]
    }
   ],
   "source": [
    "#Multidot_multiplication\n",
    "a = np.random.randint(-4,4,(500,5))\n",
    "b = np.random.randint(-4,4,(5,1000))\n",
    "c = np.random.randint(-4,4,(1000,10))\n",
    "z = np.linalg.multi_dot([a,b,c]) \n",
    "print(z, '\\n')"
   ]
  },
  {
   "cell_type": "code",
   "execution_count": 5,
   "id": "6e5e5fe6",
   "metadata": {},
   "outputs": [
    {
     "name": "stdout",
     "output_type": "stream",
     "text": [
      "[[ -783 -2869 -1584 ... -2303 -1872 -2553]\n",
      " [  477  1073  1252 ...   583  1740  1381]\n",
      " [-1170   112 -1883 ...   114 -4246 -2466]\n",
      " ...\n",
      " [ -705 -2088 -1065 ...   -75  -717 -1727]\n",
      " [  453  1655   -22 ...  -452 -1380   -67]\n",
      " [-2755 -3418 -3607 ... -1751 -5877 -4517]] \n",
      "\n"
     ]
    }
   ],
   "source": [
    "z = a.dot(b).dot(c)\n",
    "print(z, '\\n') "
   ]
  },
  {
   "cell_type": "code",
   "execution_count": 6,
   "id": "de27134e",
   "metadata": {},
   "outputs": [
    {
     "name": "stdout",
     "output_type": "stream",
     "text": [
      "50\n",
      "[[ 7  8  9]\n",
      " [14 16 18]\n",
      " [21 24 27]]\n"
     ]
    }
   ],
   "source": [
    "#inner/outer function \n",
    "a = np.array([1,2,3])  \n",
    "b = np.array([7,8,9]) \n",
    "i=np.inner(a,b)\n",
    "print(i)\n",
    "o=np.outer(a,b)\n",
    "print(o)"
   ]
  },
  {
   "cell_type": "code",
   "execution_count": 7,
   "id": "91fbc47d",
   "metadata": {},
   "outputs": [
    {
     "name": "stdout",
     "output_type": "stream",
     "text": [
      "122\n"
     ]
    }
   ],
   "source": [
    "#MatrixMultiplication \n",
    "#same shape marices\n",
    "a = np.array([4,5,6])  \n",
    "b = np.array([7,8,9])  \n",
    "i=np.matmul(a,b)\n",
    "print(i)"
   ]
  },
  {
   "cell_type": "code",
   "execution_count": 10,
   "id": "094e0837",
   "metadata": {},
   "outputs": [
    {
     "name": "stdout",
     "output_type": "stream",
     "text": [
      "2.0\n"
     ]
    }
   ],
   "source": [
    "#determinant\n",
    "a = np.array(([4,5],[2,3])) \n",
    "m=(np.linalg.det(a))\n",
    "print(m)"
   ]
  },
  {
   "cell_type": "code",
   "execution_count": 2,
   "id": "fc1e1a49",
   "metadata": {},
   "outputs": [
    {
     "name": "stdout",
     "output_type": "stream",
     "text": [
      "[[ -9. -10.]\n",
      " [  8.   9.]]\n"
     ]
    }
   ],
   "source": [
    "#quadratic equations\n",
    "\n",
    "import numpy as np\n",
    "a = np.array([[7,8],[5,6]])  \n",
    "b = np.array([[1,2],[3,4]])  \n",
    "s=np.linalg.solve(a, b)\n",
    "print(s)"
   ]
  },
  {
   "cell_type": "code",
   "execution_count": 3,
   "id": "05371d2c",
   "metadata": {},
   "outputs": [
    {
     "name": "stdout",
     "output_type": "stream",
     "text": [
      "[[ 3.  -4. ]\n",
      " [-2.5  3.5]]\n"
     ]
    }
   ],
   "source": [
    "#inverse function\n",
    "a = np.array([[7,8],[5,6]])\n",
    "inverse=np.linalg.inv(a)\n",
    "print(inverse)"
   ]
  },
  {
   "cell_type": "code",
   "execution_count": 4,
   "id": "4c8b17b0",
   "metadata": {},
   "outputs": [
    {
     "name": "stdout",
     "output_type": "stream",
     "text": [
      "5\n"
     ]
    }
   ],
   "source": [
    "#trace fn\n",
    "a = np.array([[1,2],[3,4]])  \n",
    "print(np.trace(a))"
   ]
  },
  {
   "cell_type": "code",
   "execution_count": 5,
   "id": "38da865e",
   "metadata": {},
   "outputs": [
    {
     "name": "stdout",
     "output_type": "stream",
     "text": [
      "2\n"
     ]
    }
   ],
   "source": [
    "#rank\n",
    "a = np.array([[1,2],[3,4]])  \n",
    "print(np.linalg.matrix_rank(a))"
   ]
  },
  {
   "cell_type": "code",
   "execution_count": 2,
   "id": "e8720b71",
   "metadata": {},
   "outputs": [
    {
     "name": "stdout",
     "output_type": "stream",
     "text": [
      "\n",
      "Eigen values:\n",
      "[-6.05798024  4.4666812   0.59129904]\n",
      "\n",
      "Eigen vectors:\n",
      "[[ 0.44047381 -0.66326042  0.49735565]\n",
      " [-0.27023519 -0.67962995 -0.75158903]\n",
      " [-0.85612836 -0.31335084  0.43330277]]\n"
     ]
    }
   ],
   "source": [
    "#eigen_value functions\n",
    "import numpy as np\n",
    "\n",
    "A = np.array([[1,2,3],[3,2,-1],[4,0,-4]])\n",
    "val, vect = np.linalg.eig(A)\n",
    "print(\"\\nEigen values:\")\n",
    "print(val)\n",
    "print(\"\\nEigen vectors:\")\n",
    "print(vect)"
   ]
  },
  {
   "cell_type": "code",
   "execution_count": 4,
   "id": "7810acdd",
   "metadata": {},
   "outputs": [
    {
     "data": {
      "text/plain": [
       "array([1.00000000e+00, 2.15443469e+03, 4.64158883e+06, 1.00000000e+10])"
      ]
     },
     "execution_count": 4,
     "metadata": {},
     "output_type": "execute_result"
    }
   ],
   "source": [
    "#linespace and logspace\n",
    "\n",
    "np.logspace(0, 10, num=4)"
   ]
  },
  {
   "cell_type": "code",
   "execution_count": 5,
   "id": "29bf9873",
   "metadata": {},
   "outputs": [
    {
     "data": {
      "text/plain": [
       "array([ 0.        ,  3.33333333,  6.66666667, 10.        ])"
      ]
     },
     "execution_count": 5,
     "metadata": {},
     "output_type": "execute_result"
    }
   ],
   "source": [
    "np.linspace(0, 10, num=4)"
   ]
  },
  {
   "cell_type": "code",
   "execution_count": 6,
   "id": "af9febbf",
   "metadata": {},
   "outputs": [
    {
     "name": "stdout",
     "output_type": "stream",
     "text": [
      "[[ 0  1  2]\n",
      " [ 3  4  5]\n",
      " [ 6  7  8]\n",
      " [ 9 10 11]]\n",
      "\n",
      " Frobenius Norm of above matrix:\n",
      "22.494443758403985\n"
     ]
    }
   ],
   "source": [
    "#matrix_norm\n",
    "a= np.arange(12).reshape(4,3)\n",
    "b = np.linalg.norm(a)\n",
    "print(a)\n",
    "print('\\n Frobenius Norm of above matrix:')\n",
    "print(b) "
   ]
  },
  {
   "cell_type": "code",
   "execution_count": 7,
   "id": "2aea4405",
   "metadata": {},
   "outputs": [
    {
     "name": "stdout",
     "output_type": "stream",
     "text": [
      "[11.22497216 12.88409873 14.62873884]\n"
     ]
    }
   ],
   "source": [
    "a = np.arange(12).reshape(4,3)\n",
    "b = np.linalg.norm(a, axis=0)\n",
    "print(b)"
   ]
  },
  {
   "cell_type": "code",
   "execution_count": 8,
   "id": "730163aa",
   "metadata": {},
   "outputs": [
    {
     "name": "stdout",
     "output_type": "stream",
     "text": [
      "[ 2.23606798  7.07106781 12.20655562 17.3781472 ]\n"
     ]
    }
   ],
   "source": [
    "a = np.arange(12).reshape(4,3)\n",
    "b = np.linalg.norm(a, axis=1)\n",
    "# dim = 4\n",
    "print(b)"
   ]
  },
  {
   "cell_type": "code",
   "execution_count": 13,
   "id": "d53e6cc5",
   "metadata": {},
   "outputs": [
    {
     "name": "stdout",
     "output_type": "stream",
     "text": [
      "[[7 2 5 3]\n",
      " [1 2 4 3]\n",
      " [3 7 7 6]\n",
      " [7 8 1 2]]\n",
      "[ 4 12  1  3]\n",
      "[  65. -162. -398.  621.]\n"
     ]
    }
   ],
   "source": [
    "#Linear_equations\n",
    "a = np.random.randint(1,10,[4,4])\n",
    "b= np.array([4,12,1,3])\n",
    "x= np.linalg.solve(a,b)\n",
    "print(a)\n",
    "print(b)\n",
    "print(x)"
   ]
  },
  {
   "cell_type": "code",
   "execution_count": null,
   "id": "7f14dd7f",
   "metadata": {},
   "outputs": [],
   "source": []
  }
 ],
 "metadata": {
  "kernelspec": {
   "display_name": "Python 3 (ipykernel)",
   "language": "python",
   "name": "python3"
  },
  "language_info": {
   "codemirror_mode": {
    "name": "ipython",
    "version": 3
   },
   "file_extension": ".py",
   "mimetype": "text/x-python",
   "name": "python",
   "nbconvert_exporter": "python",
   "pygments_lexer": "ipython3",
   "version": "3.11.1"
  }
 },
 "nbformat": 4,
 "nbformat_minor": 5
}
