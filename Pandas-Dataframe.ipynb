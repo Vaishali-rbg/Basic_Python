{
 "cells": [
  {
   "cell_type": "code",
   "execution_count": 4,
   "id": "28b1f91f",
   "metadata": {},
   "outputs": [
    {
     "name": "stdout",
     "output_type": "stream",
     "text": [
      "     Name  Age      Address Qualification\n",
      "0    Mano   20    Tamilnadu           Msc\n",
      "1   Divya   24  Gandhipuram           Phd\n",
      "2   Pinky   30       Bhopal           MBA\n",
      "3  Yamini   21    Bnagalore        M.Tech\n",
      "Empty DataFrame\n",
      "Columns: [Name, Age, Address, Qualification]\n",
      "Index: []\n",
      "0    20\n",
      "1    24\n",
      "2    30\n",
      "3    21\n",
      "Name: Age, dtype: int64\n"
     ]
    }
   ],
   "source": [
    "import pandas as pd\n",
    "import numpy as np\n",
    "\n",
    "data = {'Name': [ 'Mano', 'Divya', 'Pinky', 'Yamini'],\n",
    "        'Age': [20, 24, 30, 21],\n",
    "        'Address': ['Tamilnadu', 'Gandhipuram', 'Bhopal', 'Bnagalore'],\n",
    "        'Qualification': ['Msc', 'Phd', 'MBA', 'M.Tech']}\n",
    "\n",
    "data= pd.DataFrame(data)\n",
    "\n",
    "print(data)\n",
    "first= data.loc[data['Name'] == 'Jai']\n",
    "print(first)\n",
    "\n",
    "second= data[\"Age\"]\n",
    "print(second)"
   ]
  },
  {
   "cell_type": "code",
   "execution_count": 5,
   "id": "206edc21",
   "metadata": {},
   "outputs": [
    {
     "name": "stdout",
     "output_type": "stream",
     "text": [
      "   First Score  Second Score  Third Score\n",
      "0        False         False         True\n",
      "1        False         False        False\n",
      "2         True         False        False\n",
      "3        False          True        False\n",
      "   First Score  Second Score  Third Score\n",
      "0        100.0          30.0          0.0\n",
      "1         90.0          45.0         40.0\n",
      "2          0.0          56.0         80.0\n",
      "3         95.0           0.0         98.0\n",
      "   First Score  Second Score  Third Score\n",
      "1         90.0          45.0         40.0\n"
     ]
    }
   ],
   "source": [
    "# Missing data\n",
    "dict = {'First Score': [100, 90, np.nan, 95],\n",
    "        'Second Score': [30, 45, 56, np.nan],\n",
    "        'Third Score': [np.nan, 40, 80, 98]}\n",
    "df= pd.DataFrame(dict)\n",
    "new_df= df.isnull()\n",
    "print(new_df)\n",
    "\n",
    "new2_df= df.fillna(0)\n",
    "print(new2_df)\n",
    "\n",
    "new3_df= df.dropna()\n",
    "print(new3_df)"
   ]
  },
  {
   "cell_type": "code",
   "execution_count": 6,
   "id": "e9602b2e",
   "metadata": {},
   "outputs": [
    {
     "name": "stdout",
     "output_type": "stream",
     "text": [
      "0 Name                  Mano\n",
      "Age                     20\n",
      "Address          Tamilnadu\n",
      "Qualification          Msc\n",
      "Name: 0, dtype: object\n",
      "\n",
      "1 Name                   Divya\n",
      "Age                       24\n",
      "Address          Gandhipuram\n",
      "Qualification            Phd\n",
      "Name: 1, dtype: object\n",
      "\n",
      "2 Name              Pinky\n",
      "Age                  30\n",
      "Address          Bhopal\n",
      "Qualification       MBA\n",
      "Name: 2, dtype: object\n",
      "\n",
      "3 Name                Yamini\n",
      "Age                     21\n",
      "Address          Bnagalore\n",
      "Qualification       M.Tech\n",
      "Name: 3, dtype: object\n",
      "\n",
      "Pinky\n",
      "30\n",
      "Bhopal\n",
      "MBA\n"
     ]
    }
   ],
   "source": [
    "#Iterating over rows&columns\n",
    "\n",
    "data = {'Name': [ 'Mano', 'Divya', 'Pinky', 'Yamini'],\n",
    "        'Age': [20, 24, 30, 21],\n",
    "        'Address': ['Tamilnadu', 'Gandhipuram', 'Bhopal', 'Bnagalore'],\n",
    "        'Qualification': ['Msc', 'Phd', 'MBA', 'M.Tech']}\n",
    "\n",
    "\n",
    "df= pd.DataFrame(data)\n",
    "for i, j in df.iterrows():\n",
    "        print(i, j)\n",
    "        print()\n",
    "\n",
    "columns= list(df)\n",
    "for i in columns:\n",
    "        print (df[i][2])"
   ]
  },
  {
   "cell_type": "code",
   "execution_count": 11,
   "id": "d1f62650",
   "metadata": {},
   "outputs": [
    {
     "ename": "SyntaxError",
     "evalue": "':' expected after dictionary key (1378152436.py, line 5)",
     "output_type": "error",
     "traceback": [
      "\u001b[1;36m  Cell \u001b[1;32mIn[11], line 5\u001b[1;36m\u001b[0m\n\u001b[1;33m    'Qualification': ['Msc', 'Phd', 'MBA', 'M.Tech'], index_col =\"Name\"}\u001b[0m\n\u001b[1;37m                                                              ^\u001b[0m\n\u001b[1;31mSyntaxError\u001b[0m\u001b[1;31m:\u001b[0m ':' expected after dictionary key\n"
     ]
    }
   ],
   "source": [
    "#Indexing a dataframe\n",
    "data = {'Name': [ 'Mano', 'Divya', 'Pinky', 'Yamini'],\n",
    "        'Age': [20, 24, 30, 21],\n",
    "        'Address': ['Tamilnadu', 'Gandhipuram', 'Bhopal', 'Bnagalore'],\n",
    "        'Qualification': ['Msc', 'Phd', 'MBA', 'M.Tech'], index_col =\"Name\"}\n",
    "\n",
    "row2 = data.iloc[0] \n",
    "print(row2)"
   ]
  }
 ],
 "metadata": {
  "kernelspec": {
   "display_name": "Python 3 (ipykernel)",
   "language": "python",
   "name": "python3"
  },
  "language_info": {
   "codemirror_mode": {
    "name": "ipython",
    "version": 3
   },
   "file_extension": ".py",
   "mimetype": "text/x-python",
   "name": "python",
   "nbconvert_exporter": "python",
   "pygments_lexer": "ipython3",
   "version": "3.11.1"
  }
 },
 "nbformat": 4,
 "nbformat_minor": 5
}
